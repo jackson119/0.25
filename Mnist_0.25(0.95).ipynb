{
  "nbformat": 4,
  "nbformat_minor": 0,
  "metadata": {
    "colab": {
      "name": "Mnist_0.25(0.95).ipynb",
      "provenance": [],
      "collapsed_sections": [],
      "authorship_tag": "ABX9TyNQWUo5ZMQd++ZxsJiLaqgT",
      "include_colab_link": true
    },
    "kernelspec": {
      "display_name": "Python 3",
      "name": "python3"
    },
    "language_info": {
      "name": "python"
    }
  },
  "cells": [
    {
      "cell_type": "markdown",
      "metadata": {
        "id": "view-in-github",
        "colab_type": "text"
      },
      "source": [
        "<a href=\"https://colab.research.google.com/github/jackson119/0.25/blob/main/Mnist_0.25(0.95).ipynb\" target=\"_parent\"><img src=\"https://colab.research.google.com/assets/colab-badge.svg\" alt=\"Open In Colab\"/></a>"
      ]
    },
    {
      "cell_type": "code",
      "metadata": {
        "id": "VWOXs4Fcj1iL"
      },
      "source": [
        "import tensorflow as tf\n",
        "import keras"
      ],
      "execution_count": 1,
      "outputs": []
    },
    {
      "cell_type": "code",
      "metadata": {
        "colab": {
          "base_uri": "https://localhost:8080/"
        },
        "id": "B2f3fSSJj25c",
        "outputId": "3d8d6c34-c65e-4faf-b8c8-f9d648bc792a"
      },
      "source": [
        "print(tf.__version__)"
      ],
      "execution_count": 2,
      "outputs": [
        {
          "output_type": "stream",
          "text": [
            "2.4.1\n"
          ],
          "name": "stdout"
        }
      ]
    },
    {
      "cell_type": "code",
      "metadata": {
        "id": "WYOIBjZ2j7Gg"
      },
      "source": [
        "from tensorflow.keras.datasets import mnist\n",
        "from tensorflow.keras import utils\n",
        "import numpy as np\n",
        "np.random.seed(10)"
      ],
      "execution_count": 3,
      "outputs": []
    },
    {
      "cell_type": "code",
      "metadata": {
        "id": "7dqpRL2jkIza",
        "colab": {
          "base_uri": "https://localhost:8080/"
        },
        "outputId": "df2a4453-daa4-42e7-f98d-0080d136ad7e"
      },
      "source": [
        "(x_Train,y_Train),(x_Test,y_Test)=mnist.load_data()"
      ],
      "execution_count": 4,
      "outputs": [
        {
          "output_type": "stream",
          "text": [
            "Downloading data from https://storage.googleapis.com/tensorflow/tf-keras-datasets/mnist.npz\n",
            "11493376/11490434 [==============================] - 0s 0us/step\n"
          ],
          "name": "stdout"
        }
      ]
    },
    {
      "cell_type": "code",
      "metadata": {
        "id": "DmE55rdQkP2_"
      },
      "source": [
        "x_Train4D=x_Train.reshape(x_Train.shape[0],28,28,1).astype('float32')\n",
        "x_Test4D=x_Test.reshape(x_Test.shape[0],28,28,1).astype('float32')\n"
      ],
      "execution_count": 5,
      "outputs": []
    },
    {
      "cell_type": "code",
      "metadata": {
        "id": "YbxdLorvkXmd"
      },
      "source": [
        "x_Train4D_normalize=x_Train4D/255\n",
        "x_Test4D_normalize=x_Test4D/255"
      ],
      "execution_count": 6,
      "outputs": []
    },
    {
      "cell_type": "code",
      "metadata": {
        "id": "eiI0qK5DkxQF"
      },
      "source": [
        "y_TrainOneHot=utils.to_categorical(y_Train)\n",
        "y_TestOneHot=utils.to_categorical(y_Test)"
      ],
      "execution_count": 7,
      "outputs": []
    },
    {
      "cell_type": "code",
      "metadata": {
        "id": "3-0M-4lSk6uE"
      },
      "source": [
        "##from tensorflow.keras.models import Sequential\n",
        "##from tensorflow.keras.layers import Dense,Dropout,Flatten,Conv2D,MaxPooling2D"
      ],
      "execution_count": 8,
      "outputs": []
    },
    {
      "cell_type": "code",
      "metadata": {
        "id": "D12sZOVunjwf"
      },
      "source": [
        "from keras.models import Sequential\n",
        "from keras.layers import Dense,Dropout,Flatten,Conv2D,MaxPooling2D"
      ],
      "execution_count": 9,
      "outputs": []
    },
    {
      "cell_type": "code",
      "metadata": {
        "id": "JPz6nXD5l7pL"
      },
      "source": [
        "model=Sequential()"
      ],
      "execution_count": 10,
      "outputs": []
    },
    {
      "cell_type": "code",
      "metadata": {
        "id": "dvGR--Uul9ob"
      },
      "source": [
        "model.add(Conv2D(filters=16,kernel_size=(5,5),padding='same',input_shape=(28,28,1),activation='relu'))"
      ],
      "execution_count": 11,
      "outputs": []
    },
    {
      "cell_type": "code",
      "metadata": {
        "id": "7mzKX8mmmK2S"
      },
      "source": [
        "model.add(MaxPooling2D(pool_size=(2,2)))"
      ],
      "execution_count": 12,
      "outputs": []
    },
    {
      "cell_type": "code",
      "metadata": {
        "id": "bsuQ7Yq1miJ-"
      },
      "source": [
        "model.add(Conv2D(filters=36,kernel_size=(5,5),padding='same',activation='relu'))"
      ],
      "execution_count": 13,
      "outputs": []
    },
    {
      "cell_type": "code",
      "metadata": {
        "id": "VrKNvg7Hn6Du"
      },
      "source": [
        "model.add(MaxPooling2D(pool_size=(2,2)))"
      ],
      "execution_count": 14,
      "outputs": []
    },
    {
      "cell_type": "code",
      "metadata": {
        "id": "MRthPYcwoBcI"
      },
      "source": [
        "model.add(Dropout(0.95))"
      ],
      "execution_count": 15,
      "outputs": []
    },
    {
      "cell_type": "code",
      "metadata": {
        "id": "P485is4Zom-1"
      },
      "source": [
        "model.add(Flatten())"
      ],
      "execution_count": 16,
      "outputs": []
    },
    {
      "cell_type": "code",
      "metadata": {
        "id": "78IBW9kIoDxi"
      },
      "source": [
        "model.add(Dense(128,activation='relu'))"
      ],
      "execution_count": 17,
      "outputs": []
    },
    {
      "cell_type": "code",
      "metadata": {
        "id": "oSN2V7VWoHZT"
      },
      "source": [
        "model.add(Dropout(0.5))"
      ],
      "execution_count": 18,
      "outputs": []
    },
    {
      "cell_type": "code",
      "metadata": {
        "id": "Ryj9sVYzoJPv"
      },
      "source": [
        "model.add(Dense(10,activation='softmax'))"
      ],
      "execution_count": 19,
      "outputs": []
    },
    {
      "cell_type": "code",
      "metadata": {
        "colab": {
          "base_uri": "https://localhost:8080/"
        },
        "id": "Tflp6GDxoN2M",
        "outputId": "0aad629a-fee1-4756-faec-2f23a5092a58"
      },
      "source": [
        "print(model.summary())"
      ],
      "execution_count": 20,
      "outputs": [
        {
          "output_type": "stream",
          "text": [
            "Model: \"sequential\"\n",
            "_________________________________________________________________\n",
            "Layer (type)                 Output Shape              Param #   \n",
            "=================================================================\n",
            "conv2d (Conv2D)              (None, 28, 28, 16)        416       \n",
            "_________________________________________________________________\n",
            "max_pooling2d (MaxPooling2D) (None, 14, 14, 16)        0         \n",
            "_________________________________________________________________\n",
            "conv2d_1 (Conv2D)            (None, 14, 14, 36)        14436     \n",
            "_________________________________________________________________\n",
            "max_pooling2d_1 (MaxPooling2 (None, 7, 7, 36)          0         \n",
            "_________________________________________________________________\n",
            "dropout (Dropout)            (None, 7, 7, 36)          0         \n",
            "_________________________________________________________________\n",
            "flatten (Flatten)            (None, 1764)              0         \n",
            "_________________________________________________________________\n",
            "dense (Dense)                (None, 128)               225920    \n",
            "_________________________________________________________________\n",
            "dropout_1 (Dropout)          (None, 128)               0         \n",
            "_________________________________________________________________\n",
            "dense_1 (Dense)              (None, 10)                1290      \n",
            "=================================================================\n",
            "Total params: 242,062\n",
            "Trainable params: 242,062\n",
            "Non-trainable params: 0\n",
            "_________________________________________________________________\n",
            "None\n"
          ],
          "name": "stdout"
        }
      ]
    },
    {
      "cell_type": "code",
      "metadata": {
        "colab": {
          "base_uri": "https://localhost:8080/"
        },
        "id": "KkjXWlxAo-7X",
        "outputId": "9bc9fb35-b372-476f-f8b9-87a167301ad9"
      },
      "source": [
        "model.compile(loss='categorical_crossentropy',optimizer='adam',metrics=['accuracy'])\n",
        "train_history=model.fit(x=x_Train4D_normalize,y=y_TrainOneHot,validation_split=0.20,epochs=10,batch_size=300,verbose=2)"
      ],
      "execution_count": 21,
      "outputs": [
        {
          "output_type": "stream",
          "text": [
            "Epoch 1/10\n",
            "160/160 - 55s - loss: 1.3911 - accuracy: 0.5156 - val_loss: 0.2758 - val_accuracy: 0.9391\n",
            "Epoch 2/10\n",
            "160/160 - 53s - loss: 0.6612 - accuracy: 0.7839 - val_loss: 0.1753 - val_accuracy: 0.9594\n",
            "Epoch 3/10\n",
            "160/160 - 53s - loss: 0.5208 - accuracy: 0.8326 - val_loss: 0.1338 - val_accuracy: 0.9656\n",
            "Epoch 4/10\n",
            "160/160 - 53s - loss: 0.4527 - accuracy: 0.8563 - val_loss: 0.1179 - val_accuracy: 0.9707\n",
            "Epoch 5/10\n",
            "160/160 - 54s - loss: 0.4054 - accuracy: 0.8698 - val_loss: 0.1054 - val_accuracy: 0.9726\n",
            "Epoch 6/10\n",
            "160/160 - 53s - loss: 0.3864 - accuracy: 0.8804 - val_loss: 0.0962 - val_accuracy: 0.9739\n",
            "Epoch 7/10\n",
            "160/160 - 53s - loss: 0.3593 - accuracy: 0.8867 - val_loss: 0.0876 - val_accuracy: 0.9759\n",
            "Epoch 8/10\n",
            "160/160 - 54s - loss: 0.3354 - accuracy: 0.8943 - val_loss: 0.0860 - val_accuracy: 0.9762\n",
            "Epoch 9/10\n",
            "160/160 - 54s - loss: 0.3267 - accuracy: 0.8985 - val_loss: 0.0793 - val_accuracy: 0.9776\n",
            "Epoch 10/10\n",
            "160/160 - 54s - loss: 0.3102 - accuracy: 0.9029 - val_loss: 0.0795 - val_accuracy: 0.9773\n"
          ],
          "name": "stdout"
        }
      ]
    },
    {
      "cell_type": "code",
      "metadata": {
        "id": "BRDns4JIpRSq"
      },
      "source": [
        "from matplotlib import pyplot as plt"
      ],
      "execution_count": 22,
      "outputs": []
    },
    {
      "cell_type": "code",
      "metadata": {
        "id": "bEkINJ-GritY"
      },
      "source": [
        "def show_train_history(train_history,train,validation):\n",
        "  plt.plot(train_history.history[train])   ### the training model will be stored into dictionary that why we can rethreived it like this.\n",
        "  plt.plot(train_history.history[validation])\n",
        "  plt.title('Train History')\n",
        "  plt.ylabel('Train')\n",
        "  plt.xlabel('Epoch')\n",
        "  plt.legend(['train','validation'],loc='upper left')\n",
        "  plt.show()"
      ],
      "execution_count": 23,
      "outputs": []
    },
    {
      "cell_type": "code",
      "metadata": {
        "colab": {
          "base_uri": "https://localhost:8080/",
          "height": 295
        },
        "id": "Njycld2KrmY-",
        "outputId": "453f4c4e-c7d7-47f3-b53c-4a259912079e"
      },
      "source": [
        "show_train_history(train_history,'accuracy','val_accuracy')"
      ],
      "execution_count": 24,
      "outputs": [
        {
          "output_type": "display_data",
          "data": {
            "image/png": "[encoded data removed]",
            "text/plain": [
              "<Figure size 432x288 with 1 Axes>"
            ]
          },
          "metadata": {
            "tags": [],
            "needs_background": "light"
          }
        }
      ]
    },
    {
      "cell_type": "code",
      "metadata": {
        "colab": {
          "base_uri": "https://localhost:8080/",
          "height": 295
        },
        "id": "7xzDtW-6rnye",
        "outputId": "e12f75ed-d50d-40d9-b602-813a83b246ca"
      },
      "source": [
        "show_train_history(train_history,'loss','val_loss')"
      ],
      "execution_count": 25,
      "outputs": [
        {
          "output_type": "display_data",
          "data": {
            "image/png": "[encoded data removed]",
            "text/plain": [
              "<Figure size 432x288 with 1 Axes>"
            ]
          },
          "metadata": {
            "tags": [],
            "needs_background": "light"
          }
        }
      ]
    },
    {
      "cell_type": "code",
      "metadata": {
        "colab": {
          "base_uri": "https://localhost:8080/"
        },
        "id": "rigODtjWsH9a",
        "outputId": "09d8558a-02ba-4a8d-8713-b686a0423056"
      },
      "source": [
        "scores=model.evaluate(x_Test4D_normalize,y_TestOneHot) ### evaluate only used for testing images and labels\n",
        "print()\n",
        "print(\"Accuracy=\",scores[1])"
      ],
      "execution_count": 26,
      "outputs": [
        {
          "output_type": "stream",
          "text": [
            "313/313 [==============================] - 4s 14ms/step - loss: 0.0765 - accuracy: 0.9753\n",
            "\n",
            "Accuracy= 0.9753000140190125\n"
          ],
          "name": "stdout"
        }
      ]
    },
    {
      "cell_type": "code",
      "metadata": {
        "colab": {
          "base_uri": "https://localhost:8080/"
        },
        "id": "BIp4diIIsW3D",
        "outputId": "fcdd53e9-3bcb-4389-9339-1edef54d7f71"
      },
      "source": [
        "prediction=model.predict_classes(x_Test4D_normalize)"
      ],
      "execution_count": 27,
      "outputs": [
        {
          "output_type": "stream",
          "text": [
            "/usr/local/lib/python3.7/dist-packages/tensorflow/python/keras/engine/sequential.py:450: UserWarning: `model.predict_classes()` is deprecated and will be removed after 2021-01-01. Please use instead:* `np.argmax(model.predict(x), axis=-1)`,   if your model does multi-class classification   (e.g. if it uses a `softmax` last-layer activation).* `(model.predict(x) > 0.5).astype(\"int32\")`,   if your model does binary classification   (e.g. if it uses a `sigmoid` last-layer activation).\n",
            "  warnings.warn('`model.predict_classes()` is deprecated and '\n"
          ],
          "name": "stderr"
        }
      ]
    },
    {
      "cell_type": "code",
      "metadata": {
        "id": "qwdqBMlwsioC"
      },
      "source": [
        "def plot_images_labels_prediction(images,labels,prediction,idx,num=10):\n",
        "  fig=plt.gcf()\n",
        "  fig.set_size_inches(12,14)\n",
        "  if num>25:num=25          ### set the number to 25 if exceed it will set to 25\n",
        "  for i in range(0,num):\n",
        "    ax=plt.subplot(5,5,1+i)  ## increase by 1 everytime\n",
        "    ax.imshow(images[idx],cmap='binary') #### plot the graph\n",
        "    title='label='+str(labels[idx])      ####  set the title\n",
        "\n",
        "    if len(prediction)>0:\n",
        "      title+=\",predict=\"+str(prediction[idx])\n",
        "    ax.set_title(title,fontsize=10)\n",
        "    ax.set_xticks([]);ax.set_yticks([]) ### wont show the scale for x axis and y axis\n",
        "\n",
        "    idx+=1\n",
        "plt.show()"
      ],
      "execution_count": 28,
      "outputs": []
    },
    {
      "cell_type": "code",
      "metadata": {
        "colab": {
          "base_uri": "https://localhost:8080/",
          "height": 321
        },
        "id": "u2RQN6WrsoiF",
        "outputId": "6b77a4d6-3af7-4eeb-bde8-bb175ba73d33"
      },
      "source": [
        "plot_images_labels_prediction(x_Test,y_Test,prediction,idx=0)"
      ],
      "execution_count": 29,
      "outputs": [
        {
          "output_type": "display_data",
          "data": {
            "image/png": "[encoded data removed]",
            "text/plain": [
              "<Figure size 864x1008 with 10 Axes>"
            ]
          },
          "metadata": {
            "tags": []
          }
        }
      ]
    },
    {
      "cell_type": "code",
      "metadata": {
        "colab": {
          "base_uri": "https://localhost:8080/",
          "height": 379
        },
        "id": "0MBoq3eSsqSC",
        "outputId": "79c83fd7-cb09-41ac-ff99-5a0d87c3556d"
      },
      "source": [
        "import pandas as pd\n",
        "pd.crosstab(y_Test,prediction,\n",
        "            rownames=['label'],colnames=['predict'])"
      ],
      "execution_count": 30,
      "outputs": [
        {
          "output_type": "execute_result",
          "data": {
            "text/html": [
              "<div>\n",
              "<style scoped>\n",
              "    .dataframe tbody tr th:only-of-type {\n",
              "        vertical-align: middle;\n",
              "    }\n",
              "\n",
              "    .dataframe tbody tr th {\n",
              "        vertical-align: top;\n",
              "    }\n",
              "\n",
              "    .dataframe thead th {\n",
              "        text-align: right;\n",
              "    }\n",
              "</style>\n",
              "<table border=\"1\" class=\"dataframe\">\n",
              "  <thead>\n",
              "    <tr style=\"text-align: right;\">\n",
              "      <th>predict</th>\n",
              "      <th>0</th>\n",
              "      <th>1</th>\n",
              "      <th>2</th>\n",
              "      <th>3</th>\n",
              "      <th>4</th>\n",
              "      <th>5</th>\n",
              "      <th>6</th>\n",
              "      <th>7</th>\n",
              "      <th>8</th>\n",
              "      <th>9</th>\n",
              "    </tr>\n",
              "    <tr>\n",
              "      <th>label</th>\n",
              "      <th></th>\n",
              "      <th></th>\n",
              "      <th></th>\n",
              "      <th></th>\n",
              "      <th></th>\n",
              "      <th></th>\n",
              "      <th></th>\n",
              "      <th></th>\n",
              "      <th></th>\n",
              "      <th></th>\n",
              "    </tr>\n",
              "  </thead>\n",
              "  <tbody>\n",
              "    <tr>\n",
              "      <th>0</th>\n",
              "      <td>970</td>\n",
              "      <td>0</td>\n",
              "      <td>3</td>\n",
              "      <td>0</td>\n",
              "      <td>0</td>\n",
              "      <td>0</td>\n",
              "      <td>5</td>\n",
              "      <td>1</td>\n",
              "      <td>1</td>\n",
              "      <td>0</td>\n",
              "    </tr>\n",
              "    <tr>\n",
              "      <th>1</th>\n",
              "      <td>0</td>\n",
              "      <td>1126</td>\n",
              "      <td>5</td>\n",
              "      <td>0</td>\n",
              "      <td>0</td>\n",
              "      <td>1</td>\n",
              "      <td>1</td>\n",
              "      <td>1</td>\n",
              "      <td>1</td>\n",
              "      <td>0</td>\n",
              "    </tr>\n",
              "    <tr>\n",
              "      <th>2</th>\n",
              "      <td>6</td>\n",
              "      <td>1</td>\n",
              "      <td>1011</td>\n",
              "      <td>3</td>\n",
              "      <td>1</td>\n",
              "      <td>0</td>\n",
              "      <td>0</td>\n",
              "      <td>8</td>\n",
              "      <td>2</td>\n",
              "      <td>0</td>\n",
              "    </tr>\n",
              "    <tr>\n",
              "      <th>3</th>\n",
              "      <td>0</td>\n",
              "      <td>0</td>\n",
              "      <td>1</td>\n",
              "      <td>991</td>\n",
              "      <td>0</td>\n",
              "      <td>8</td>\n",
              "      <td>0</td>\n",
              "      <td>7</td>\n",
              "      <td>3</td>\n",
              "      <td>0</td>\n",
              "    </tr>\n",
              "    <tr>\n",
              "      <th>4</th>\n",
              "      <td>0</td>\n",
              "      <td>1</td>\n",
              "      <td>1</td>\n",
              "      <td>0</td>\n",
              "      <td>964</td>\n",
              "      <td>0</td>\n",
              "      <td>4</td>\n",
              "      <td>0</td>\n",
              "      <td>1</td>\n",
              "      <td>11</td>\n",
              "    </tr>\n",
              "    <tr>\n",
              "      <th>5</th>\n",
              "      <td>1</td>\n",
              "      <td>0</td>\n",
              "      <td>0</td>\n",
              "      <td>4</td>\n",
              "      <td>0</td>\n",
              "      <td>884</td>\n",
              "      <td>2</td>\n",
              "      <td>1</td>\n",
              "      <td>0</td>\n",
              "      <td>0</td>\n",
              "    </tr>\n",
              "    <tr>\n",
              "      <th>6</th>\n",
              "      <td>6</td>\n",
              "      <td>3</td>\n",
              "      <td>0</td>\n",
              "      <td>0</td>\n",
              "      <td>1</td>\n",
              "      <td>1</td>\n",
              "      <td>946</td>\n",
              "      <td>0</td>\n",
              "      <td>1</td>\n",
              "      <td>0</td>\n",
              "    </tr>\n",
              "    <tr>\n",
              "      <th>7</th>\n",
              "      <td>1</td>\n",
              "      <td>1</td>\n",
              "      <td>14</td>\n",
              "      <td>2</td>\n",
              "      <td>2</td>\n",
              "      <td>0</td>\n",
              "      <td>0</td>\n",
              "      <td>998</td>\n",
              "      <td>1</td>\n",
              "      <td>9</td>\n",
              "    </tr>\n",
              "    <tr>\n",
              "      <th>8</th>\n",
              "      <td>15</td>\n",
              "      <td>1</td>\n",
              "      <td>6</td>\n",
              "      <td>9</td>\n",
              "      <td>4</td>\n",
              "      <td>9</td>\n",
              "      <td>4</td>\n",
              "      <td>5</td>\n",
              "      <td>909</td>\n",
              "      <td>12</td>\n",
              "    </tr>\n",
              "    <tr>\n",
              "      <th>9</th>\n",
              "      <td>6</td>\n",
              "      <td>6</td>\n",
              "      <td>1</td>\n",
              "      <td>9</td>\n",
              "      <td>10</td>\n",
              "      <td>13</td>\n",
              "      <td>0</td>\n",
              "      <td>8</td>\n",
              "      <td>2</td>\n",
              "      <td>954</td>\n",
              "    </tr>\n",
              "  </tbody>\n",
              "</table>\n",
              "</div>"
            ],
            "text/plain": [
              "predict    0     1     2    3    4    5    6    7    8    9\n",
              "label                                                      \n",
              "0        970     0     3    0    0    0    5    1    1    0\n",
              "1          0  1126     5    0    0    1    1    1    1    0\n",
              "2          6     1  1011    3    1    0    0    8    2    0\n",
              "3          0     0     1  991    0    8    0    7    3    0\n",
              "4          0     1     1    0  964    0    4    0    1   11\n",
              "5          1     0     0    4    0  884    2    1    0    0\n",
              "6          6     3     0    0    1    1  946    0    1    0\n",
              "7          1     1    14    2    2    0    0  998    1    9\n",
              "8         15     1     6    9    4    9    4    5  909   12\n",
              "9          6     6     1    9   10   13    0    8    2  954"
            ]
          },
          "metadata": {
            "tags": []
          },
          "execution_count": 30
        }
      ]
    },
    {
      "cell_type": "code",
      "metadata": {
        "id": "XBcbQLuest3T"
      },
      "source": [
        ""
      ],
      "execution_count": null,
      "outputs": []
    }
  ]
}